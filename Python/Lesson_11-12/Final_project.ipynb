{
 "cells": [
  {
   "cell_type": "markdown",
   "metadata": {},
   "source": [
    "# Дана функция f(x) =0.6x^3+5.5x^2+10x -5\n",
    "1. Определить корни\n",
    "2. Найти интервалы, на которых функция возрастает\n",
    "3. Найти интервалы, на которых функция убывает\n",
    "4. Построить график\n",
    "5. Вычислить вершину\n",
    "6. Определить промежутки, на котором f > 0\n",
    "7. Определить промежутки, на котором f < 0"
   ]
  },
  {
   "cell_type": "code",
   "execution_count": 1,
   "metadata": {},
   "outputs": [
    {
     "data": {
      "text/latex": [
       "$\\displaystyle 0.6 x^{3} + 5.5 x^{2} + 10 x - 5$"
      ],
      "text/plain": [
       "0.6*x**3 + 5.5*x**2 + 10*x - 5"
      ]
     },
     "execution_count": 1,
     "metadata": {},
     "output_type": "execute_result"
    }
   ],
   "source": [
    "from sympy import *\n",
    "a = 0.6\n",
    "b = 5.5\n",
    "c = 10\n",
    "d = -5\n",
    "\n",
    "x = Symbol(\"x\")\n",
    "f_x = a*(x**3)+b*(x**2)+c*(x**1)+d\n",
    "f_x"
   ]
  },
  {
   "cell_type": "markdown",
   "metadata": {},
   "source": [
    "## Найти корни"
   ]
  },
  {
   "cell_type": "code",
   "execution_count": 3,
   "metadata": {
    "scrolled": true
   },
   "outputs": [
    {
     "name": "stdout",
     "output_type": "stream",
     "text": [
      "Root 1: -6.32 + 5.29e-23*I\n",
      "Root 2: -3.25 - 1.06e-22*I\n",
      "Root 3: 0.406 - 3.39e-21*I\n"
     ]
    }
   ],
   "source": [
    "print(f'Root 1: {solve(f_x,x)[0].n(3)}\\nRoot 2: {solve(f_x,x)[1].n(3)}\\nRoot 3: {solve(f_x,x)[2].n(3)}')"
   ]
  },
  {
   "cell_type": "markdown",
   "metadata": {},
   "source": [
    "## Построить график"
   ]
  },
  {
   "cell_type": "code",
   "execution_count": 2,
   "metadata": {
    "scrolled": true
   },
   "outputs": [
    {
     "data": {
      "image/png": "[encoded data removed]",
      "text/plain": [
       "<Figure size 432x288 with 1 Axes>"
      ]
     },
     "metadata": {
      "needs_background": "light"
     },
     "output_type": "display_data"
    }
   ],
   "source": [
    "from sympy.plotting import plot\n",
    "\n",
    "g1 = plot(f_x,(x,-7,2), line_color='red', title='график функции')"
   ]
  },
  {
   "cell_type": "code",
   "execution_count": 4,
   "metadata": {},
   "outputs": [
    {
     "data": {
      "text/latex": [
       "$\\displaystyle 1.8 x^{2} + 11.0 x + 10$"
      ],
      "text/plain": [
       "1.8*x**2 + 11.0*x + 10"
      ]
     },
     "execution_count": 4,
     "metadata": {},
     "output_type": "execute_result"
    }
   ],
   "source": [
    "derivative = diff(f_x)\n",
    "derivative"
   ]
  },
  {
   "cell_type": "markdown",
   "metadata": {},
   "source": [
    "## Вычислить вершины"
   ]
  },
  {
   "cell_type": "code",
   "execution_count": 5,
   "metadata": {},
   "outputs": [
    {
     "name": "stdout",
     "output_type": "stream",
     "text": [
      "Вершина max:  -5.00\n",
      "Вершина min:  -1.11\n"
     ]
    }
   ],
   "source": [
    "print('Вершина max: ', solve(derivative,x)[0].n(3))\n",
    "print('Вершина min: ', solve(derivative,x)[1].n(3))"
   ]
  },
  {
   "cell_type": "markdown",
   "metadata": {},
   "source": [
    "## Найти интервалы, на которых функция возрастает"
   ]
  },
  {
   "cell_type": "code",
   "execution_count": 6,
   "metadata": {},
   "outputs": [
    {
     "data": {
      "text/latex": [
       "$\\displaystyle \\left(-\\infty < x \\wedge x < -5.0\\right) \\vee \\left(-1.11111111111111 < x \\wedge x < \\infty\\right)$"
      ],
      "text/plain": [
       "((-oo < x) & (x < -5.0)) | ((-1.11111111111111 < x) & (x < oo))"
      ]
     },
     "execution_count": 6,
     "metadata": {},
     "output_type": "execute_result"
    }
   ],
   "source": [
    "solve(derivative > 0, x)"
   ]
  },
  {
   "cell_type": "markdown",
   "metadata": {},
   "source": [
    "## Найти интервалы, на которых функция убывает"
   ]
  },
  {
   "cell_type": "code",
   "execution_count": 7,
   "metadata": {},
   "outputs": [
    {
     "data": {
      "text/latex": [
       "$\\displaystyle -5.0 < x \\wedge x < -1.11111111111111$"
      ],
      "text/plain": [
       "(-5.0 < x) & (x < -1.11111111111111)"
      ]
     },
     "execution_count": 7,
     "metadata": {},
     "output_type": "execute_result"
    }
   ],
   "source": [
    "solve(derivative < 0, x)"
   ]
  },
  {
   "cell_type": "markdown",
   "metadata": {},
   "source": [
    "## Определить промежутки, на котором f > 0"
   ]
  },
  {
   "cell_type": "code",
   "execution_count": 10,
   "metadata": {},
   "outputs": [
    {
     "data": {
      "text/latex": [
       "$\\displaystyle \\left(-6.32174537314726 < x \\wedge x < -3.25046383307744\\right) \\vee \\left(0.405542539558034 < x \\wedge x < \\infty\\right)$"
      ],
      "text/plain": [
       "((-6.32174537314726 < x) & (x < -3.25046383307744)) | ((0.405542539558034 < x) & (x < oo))"
      ]
     },
     "execution_count": 10,
     "metadata": {},
     "output_type": "execute_result"
    }
   ],
   "source": [
    "solve(f_x > 0, x)"
   ]
  },
  {
   "cell_type": "markdown",
   "metadata": {},
   "source": [
    "## Определить промежутки, на котором f < 0"
   ]
  },
  {
   "cell_type": "code",
   "execution_count": 11,
   "metadata": {},
   "outputs": [
    {
     "data": {
      "text/latex": [
       "$\\displaystyle \\left(-\\infty < x \\wedge x < -6.32174537314726\\right) \\vee \\left(-3.25046383307744 < x \\wedge x < 0.405542539558034\\right)$"
      ],
      "text/plain": [
       "((-oo < x) & (x < -6.32174537314726)) | ((-3.25046383307744 < x) & (x < 0.405542539558034))"
      ]
     },
     "execution_count": 11,
     "metadata": {},
     "output_type": "execute_result"
    }
   ],
   "source": [
    "solve(f_x < 0, x)"
   ]
  },
  {
   "cell_type": "code",
   "execution_count": null,
   "metadata": {},
   "outputs": [],
   "source": []
  }
 ],
 "metadata": {
  "kernelspec": {
   "display_name": "Python 3",
   "language": "python",
   "name": "python3"
  },
  "language_info": {
   "codemirror_mode": {
    "name": "ipython",
    "version": 3
   },
   "file_extension": ".py",
   "mimetype": "text/x-python",
   "name": "python",
   "nbconvert_exporter": "python",
   "pygments_lexer": "ipython3",
   "version": "3.8.5"
  }
 },
 "nbformat": 4,
 "nbformat_minor": 4
}
